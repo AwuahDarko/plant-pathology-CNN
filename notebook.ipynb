{
  "nbformat": 4,
  "nbformat_minor": 0,
  "metadata": {
    "colab": {
      "name": "notebook.ipynb",
      "provenance": [],
      "collapsed_sections": [],
      "include_colab_link": true
    },
    "kernelspec": {
      "display_name": "Python 3",
      "language": "python",
      "name": "python3"
    },
    "language_info": {
      "codemirror_mode": {
        "name": "ipython",
        "version": 3
      },
      "file_extension": ".py",
      "mimetype": "text/x-python",
      "name": "python",
      "nbconvert_exporter": "python",
      "pygments_lexer": "ipython3",
      "version": "3.7.7"
    }
  },
  "cells": [
    {
      "cell_type": "markdown",
      "metadata": {
        "id": "view-in-github",
        "colab_type": "text"
      },
      "source": [
        "<a href=\"https://colab.research.google.com/github/AwuahDarko/plant-pathology-CNN/blob/master/notebook.ipynb\" target=\"_parent\"><img src=\"https://colab.research.google.com/assets/colab-badge.svg\" alt=\"Open In Colab\"/></a>"
      ]
    },
    {
      "cell_type": "code",
      "metadata": {
        "id": "kIYCulB7fyFS"
      },
      "source": [
        "import numpy as np\n",
        "import tensorflow as tf\n",
        "from tensorflow import keras\n",
        "import pandas as pd\n",
        "import seaborn as sns\n",
        "from pylab import rcParams\n",
        "import matplotlib.pyplot as plt\n",
        "from matplotlib import rc\n",
        "from sklearn.model_selection import train_test_split\n",
        "from pandas.plotting import register_matplotlib_converters\n",
        "from tensorflow.keras.models import Sequential\n",
        "from tensorflow.keras.layers import Activation, Dense, LSTM, Bidirectional, Dropout, Flatten, Embedding\n",
        "from tensorflow.keras.optimizers import Adam\n",
        "from tensorflow.keras.metrics import categorical_crossentropy\n",
        "import datetime\n",
        "from datetime import datetime as dt, timedelta\n",
        "from tensorflow.keras.callbacks import TensorBoard\n",
        "from sklearn.metrics import confusion_matrix\n",
        "import itertools\n",
        "# from sklearn.preprocessing import MinMaxScaler\n",
        "# from sklearn.preprocessing import LabelEncoder\n",
        "# from sklearn.preprocessing import RobustScaler\n",
        "from tensorflow.keras.utils import to_categorical\n",
        "import os\n",
        "from tensorflow.keras.preprocessing.text import Tokenizer\n",
        "from tensorflow.keras.preprocessing.sequence import pad_sequences\n",
        "\n",
        "# Added because of this error\n",
        "# Error #15: Initializing libiomp5.dylib, but found libomp.dylib already initialized.\n",
        "os.environ['KMP_DUPLICATE_LIB_OK'] = 'True'\n",
        "os.environ['CUDA_VISIBLE_DEVICES'] = '0'\n",
        "# os.environ['CUDA_VISIBLE_DEVICES'] = 'True'\n",
        "# =============================================\n",
        "\n",
        "# from wordcloud import WordCloud, STOPWORDS, ImageColorGenerator\n",
        "\n",
        "%matplotlib inline\n",
        "%config InlineBackend.figure_format='retina'"
      ],
      "execution_count": 1,
      "outputs": []
    },
    {
      "cell_type": "code",
      "metadata": {
        "colab": {
          "base_uri": "https://localhost:8080/"
        },
        "id": "jOFs6tHFf0VK",
        "outputId": "46809e52-3fbb-4ea3-8742-9593e8b5a1b6"
      },
      "source": [
        "from google.colab import drive\n",
        "drive.mount('/content/drive')"
      ],
      "execution_count": 2,
      "outputs": [
        {
          "output_type": "stream",
          "text": [
            "Mounted at /content/drive\n"
          ],
          "name": "stdout"
        }
      ]
    },
    {
      "cell_type": "code",
      "metadata": {
        "id": "D8vXeCunfyFX"
      },
      "source": [
        "df_booking = pd.read_csv('/content/drive/MyDrive/cab_booking.csv',low_memory=False)"
      ],
      "execution_count": 3,
      "outputs": []
    },
    {
      "cell_type": "code",
      "metadata": {
        "id": "Z_r2j418fyFX"
      },
      "source": [
        "df_request = pd.read_csv('/content/drive/MyDrive/cab_request_now.csv',low_memory=False)"
      ],
      "execution_count": 4,
      "outputs": []
    },
    {
      "cell_type": "code",
      "metadata": {
        "colab": {
          "base_uri": "https://localhost:8080/",
          "height": 447
        },
        "id": "Uvbi3e9DfyFY",
        "outputId": "958f1ef5-d3e9-476f-bbfa-f9dccd12a566"
      },
      "source": [
        "df_booking.head()"
      ],
      "execution_count": 5,
      "outputs": [
        {
          "output_type": "execute_result",
          "data": {
            "text/html": [
              "<div>\n",
              "<style scoped>\n",
              "    .dataframe tbody tr th:only-of-type {\n",
              "        vertical-align: middle;\n",
              "    }\n",
              "\n",
              "    .dataframe tbody tr th {\n",
              "        vertical-align: top;\n",
              "    }\n",
              "\n",
              "    .dataframe thead th {\n",
              "        text-align: right;\n",
              "    }\n",
              "</style>\n",
              "<table border=\"1\" class=\"dataframe\">\n",
              "  <thead>\n",
              "    <tr style=\"text-align: right;\">\n",
              "      <th></th>\n",
              "      <th>iCabBookingId</th>\n",
              "      <th>vBookingNo</th>\n",
              "      <th>iCompanyId</th>\n",
              "      <th>iUserId</th>\n",
              "      <th>iDriverId</th>\n",
              "      <th>iOrganizationId</th>\n",
              "      <th>vSourceLatitude</th>\n",
              "      <th>vSourceLongitude</th>\n",
              "      <th>vDestLatitude</th>\n",
              "      <th>vDestLongitude</th>\n",
              "      <th>vDistance</th>\n",
              "      <th>vDuration</th>\n",
              "      <th>dBooking_date</th>\n",
              "      <th>vSourceAddresss</th>\n",
              "      <th>tDestAddress</th>\n",
              "      <th>dAddedDate</th>\n",
              "      <th>iTripId</th>\n",
              "      <th>eStatus</th>\n",
              "      <th>ePayType</th>\n",
              "      <th>iVehicleTypeId</th>\n",
              "      <th>iRentalPackageId</th>\n",
              "      <th>fPickUpPrice</th>\n",
              "      <th>fNightPrice</th>\n",
              "      <th>eCancelBy</th>\n",
              "      <th>iCancelByUserId</th>\n",
              "      <th>dCancelDate</th>\n",
              "      <th>iCancelReasonId</th>\n",
              "      <th>vFailReason</th>\n",
              "      <th>vCancelReason</th>\n",
              "      <th>eType</th>\n",
              "      <th>iPackageTypeId</th>\n",
              "      <th>vReceiverName</th>\n",
              "      <th>vReceiverMobile</th>\n",
              "      <th>tPickUpIns</th>\n",
              "      <th>tDeliveryIns</th>\n",
              "      <th>tPackageDetails</th>\n",
              "      <th>vCouponCode</th>\n",
              "      <th>iUserPetId</th>\n",
              "      <th>eMessageSend</th>\n",
              "      <th>eMessageAdminOne</th>\n",
              "      <th>...</th>\n",
              "      <th>vDiscount</th>\n",
              "      <th>fMinFareDiff</th>\n",
              "      <th>fWalletDebit</th>\n",
              "      <th>fTax1</th>\n",
              "      <th>fTax2</th>\n",
              "      <th>fTax1Percentage</th>\n",
              "      <th>fTax2Percentage</th>\n",
              "      <th>fOutStandingAmount</th>\n",
              "      <th>iAdminId</th>\n",
              "      <th>iHotelBookingId</th>\n",
              "      <th>vRiderRoomNubmer</th>\n",
              "      <th>eBookingFrom</th>\n",
              "      <th>eWalletDebitAllow</th>\n",
              "      <th>ePaymentBy</th>\n",
              "      <th>vProfileEmail</th>\n",
              "      <th>iUserProfileId</th>\n",
              "      <th>iTripReasonId</th>\n",
              "      <th>vReasonTitle</th>\n",
              "      <th>eTripReason</th>\n",
              "      <th>fAirportPickupSurge</th>\n",
              "      <th>fAirportDropoffSurge</th>\n",
              "      <th>eBookForSomeOneElse</th>\n",
              "      <th>vBookSomeOneName</th>\n",
              "      <th>vBookSomeOneNumber</th>\n",
              "      <th>ePayWallet</th>\n",
              "      <th>eServiceLocation</th>\n",
              "      <th>tVehicleTypeData</th>\n",
              "      <th>tVehicleTypeFareData</th>\n",
              "      <th>tTotalDuration</th>\n",
              "      <th>tTotalDistance</th>\n",
              "      <th>tEstimatedCharge</th>\n",
              "      <th>tUserWalletBalance</th>\n",
              "      <th>vWorkLocation</th>\n",
              "      <th>vWorkLocationLatitude</th>\n",
              "      <th>vWorkLocationLongitude</th>\n",
              "      <th>eSelectWorkLocation</th>\n",
              "      <th>tReceiverPhoneCode</th>\n",
              "      <th>tPickupPhoneCode</th>\n",
              "      <th>tPickupPhoneNumber</th>\n",
              "      <th>wSenderContactedBy</th>\n",
              "    </tr>\n",
              "  </thead>\n",
              "  <tbody>\n",
              "    <tr>\n",
              "      <th>0</th>\n",
              "      <td>1</td>\n",
              "      <td>84361311</td>\n",
              "      <td>1</td>\n",
              "      <td>13</td>\n",
              "      <td>4</td>\n",
              "      <td>0</td>\n",
              "      <td>5.534415</td>\n",
              "      <td>-0.425274</td>\n",
              "      <td>5.637614</td>\n",
              "      <td>-0.126606</td>\n",
              "      <td>39</td>\n",
              "      <td>61</td>\n",
              "      <td>3/7/2020 22:39</td>\n",
              "      <td>Kasoa, Ghana</td>\n",
              "      <td>Spintex Road, Accra, Ghana</td>\n",
              "      <td>3/7/2020 17:08</td>\n",
              "      <td>4</td>\n",
              "      <td>Completed</td>\n",
              "      <td>Cash</td>\n",
              "      <td>3</td>\n",
              "      <td>0</td>\n",
              "      <td>1</td>\n",
              "      <td>1.0</td>\n",
              "      <td>NaN</td>\n",
              "      <td>0</td>\n",
              "      <td>0000-00-00 00:00:00</td>\n",
              "      <td>0</td>\n",
              "      <td>NaN</td>\n",
              "      <td>NaN</td>\n",
              "      <td>Deliver</td>\n",
              "      <td>2</td>\n",
              "      <td>Kwesi Emma</td>\n",
              "      <td>205839721</td>\n",
              "      <td>I'm wearing a white top</td>\n",
              "      <td>deliver it to the store</td>\n",
              "      <td>food</td>\n",
              "      <td>NaN</td>\n",
              "      <td>0</td>\n",
              "      <td>No</td>\n",
              "      <td>No</td>\n",
              "      <td>...</td>\n",
              "      <td>NaN</td>\n",
              "      <td>0</td>\n",
              "      <td>0</td>\n",
              "      <td>0</td>\n",
              "      <td>0</td>\n",
              "      <td>0</td>\n",
              "      <td>0</td>\n",
              "      <td>0</td>\n",
              "      <td>0</td>\n",
              "      <td>0</td>\n",
              "      <td>NaN</td>\n",
              "      <td>Admin</td>\n",
              "      <td>Yes</td>\n",
              "      <td>Passenger</td>\n",
              "      <td>NaN</td>\n",
              "      <td>0</td>\n",
              "      <td>0</td>\n",
              "      <td>NaN</td>\n",
              "      <td>No</td>\n",
              "      <td>0</td>\n",
              "      <td>0</td>\n",
              "      <td>No</td>\n",
              "      <td>NaN</td>\n",
              "      <td>NaN</td>\n",
              "      <td>No</td>\n",
              "      <td>Passanger</td>\n",
              "      <td>NaN</td>\n",
              "      <td>NaN</td>\n",
              "      <td>NaN</td>\n",
              "      <td>NaN</td>\n",
              "      <td>NaN</td>\n",
              "      <td>NaN</td>\n",
              "      <td>NaN</td>\n",
              "      <td>NaN</td>\n",
              "      <td>NaN</td>\n",
              "      <td>Dynamic</td>\n",
              "      <td>NaN</td>\n",
              "      <td>NaN</td>\n",
              "      <td>NaN</td>\n",
              "      <td>None</td>\n",
              "    </tr>\n",
              "    <tr>\n",
              "      <th>1</th>\n",
              "      <td>2</td>\n",
              "      <td>74918494</td>\n",
              "      <td>1</td>\n",
              "      <td>13</td>\n",
              "      <td>61</td>\n",
              "      <td>0</td>\n",
              "      <td>5.648731</td>\n",
              "      <td>-0.226836</td>\n",
              "      <td>5.602612</td>\n",
              "      <td>-0.079195</td>\n",
              "      <td>28</td>\n",
              "      <td>47</td>\n",
              "      <td>3/16/2020 17:15</td>\n",
              "      <td>Pillar 2 Assemblies of God Church, Unnamed Roa...</td>\n",
              "      <td>Accra - Tema Beach Road, Tema, Ghana</td>\n",
              "      <td>3/15/2020 11:43</td>\n",
              "      <td>0</td>\n",
              "      <td>Assign</td>\n",
              "      <td>Cash</td>\n",
              "      <td>3</td>\n",
              "      <td>0</td>\n",
              "      <td>1</td>\n",
              "      <td>1.0</td>\n",
              "      <td>NaN</td>\n",
              "      <td>0</td>\n",
              "      <td>0000-00-00 00:00:00</td>\n",
              "      <td>0</td>\n",
              "      <td>NaN</td>\n",
              "      <td>NaN</td>\n",
              "      <td>Deliver</td>\n",
              "      <td>10</td>\n",
              "      <td>Kwesi Emma</td>\n",
              "      <td>241989930</td>\n",
              "      <td>I'm wearing a white top</td>\n",
              "      <td>deliver it to the store</td>\n",
              "      <td>clothe</td>\n",
              "      <td>NaN</td>\n",
              "      <td>0</td>\n",
              "      <td>Yes</td>\n",
              "      <td>Yes</td>\n",
              "      <td>...</td>\n",
              "      <td>NaN</td>\n",
              "      <td>0</td>\n",
              "      <td>0</td>\n",
              "      <td>0</td>\n",
              "      <td>0</td>\n",
              "      <td>0</td>\n",
              "      <td>0</td>\n",
              "      <td>0</td>\n",
              "      <td>0</td>\n",
              "      <td>0</td>\n",
              "      <td>NaN</td>\n",
              "      <td>Admin</td>\n",
              "      <td>Yes</td>\n",
              "      <td>Passenger</td>\n",
              "      <td>NaN</td>\n",
              "      <td>0</td>\n",
              "      <td>0</td>\n",
              "      <td>NaN</td>\n",
              "      <td>No</td>\n",
              "      <td>0</td>\n",
              "      <td>0</td>\n",
              "      <td>No</td>\n",
              "      <td>NaN</td>\n",
              "      <td>NaN</td>\n",
              "      <td>No</td>\n",
              "      <td>Passanger</td>\n",
              "      <td>NaN</td>\n",
              "      <td>NaN</td>\n",
              "      <td>NaN</td>\n",
              "      <td>NaN</td>\n",
              "      <td>NaN</td>\n",
              "      <td>NaN</td>\n",
              "      <td>NaN</td>\n",
              "      <td>NaN</td>\n",
              "      <td>NaN</td>\n",
              "      <td>Dynamic</td>\n",
              "      <td>NaN</td>\n",
              "      <td>NaN</td>\n",
              "      <td>NaN</td>\n",
              "      <td>None</td>\n",
              "    </tr>\n",
              "    <tr>\n",
              "      <th>2</th>\n",
              "      <td>3</td>\n",
              "      <td>95635906</td>\n",
              "      <td>1</td>\n",
              "      <td>46</td>\n",
              "      <td>66</td>\n",
              "      <td>0</td>\n",
              "      <td>5.550347</td>\n",
              "      <td>-0.206521</td>\n",
              "      <td>5.677242</td>\n",
              "      <td>-0.023127</td>\n",
              "      <td>29</td>\n",
              "      <td>42</td>\n",
              "      <td>3/18/2020 20:30</td>\n",
              "      <td>Central Lorry station, Accra, Ghana</td>\n",
              "      <td>Tema General Hospital, Tema, Ghana</td>\n",
              "      <td>3/18/2020 13:48</td>\n",
              "      <td>10</td>\n",
              "      <td>Completed</td>\n",
              "      <td>Cash</td>\n",
              "      <td>3</td>\n",
              "      <td>0</td>\n",
              "      <td>1</td>\n",
              "      <td>1.0</td>\n",
              "      <td>NaN</td>\n",
              "      <td>0</td>\n",
              "      <td>0000-00-00 00:00:00</td>\n",
              "      <td>0</td>\n",
              "      <td>NaN</td>\n",
              "      <td>NaN</td>\n",
              "      <td>Deliver</td>\n",
              "      <td>10</td>\n",
              "      <td>Ewura Esi</td>\n",
              "      <td>240949836</td>\n",
              "      <td>call eric 0278065388 to pick up item</td>\n",
              "      <td>call receiver when at destination</td>\n",
              "      <td>polo shirts 5</td>\n",
              "      <td>NaN</td>\n",
              "      <td>0</td>\n",
              "      <td>No</td>\n",
              "      <td>Yes</td>\n",
              "      <td>...</td>\n",
              "      <td>NaN</td>\n",
              "      <td>0</td>\n",
              "      <td>0</td>\n",
              "      <td>0</td>\n",
              "      <td>0</td>\n",
              "      <td>0</td>\n",
              "      <td>0</td>\n",
              "      <td>0</td>\n",
              "      <td>0</td>\n",
              "      <td>0</td>\n",
              "      <td>NaN</td>\n",
              "      <td>NaN</td>\n",
              "      <td>No</td>\n",
              "      <td>Passenger</td>\n",
              "      <td>NaN</td>\n",
              "      <td>0</td>\n",
              "      <td>0</td>\n",
              "      <td>NaN</td>\n",
              "      <td>No</td>\n",
              "      <td>0</td>\n",
              "      <td>0</td>\n",
              "      <td>No</td>\n",
              "      <td>NaN</td>\n",
              "      <td>NaN</td>\n",
              "      <td>No</td>\n",
              "      <td>Passanger</td>\n",
              "      <td>NaN</td>\n",
              "      <td>NaN</td>\n",
              "      <td>42.47</td>\n",
              "      <td>29.39</td>\n",
              "      <td>NaN</td>\n",
              "      <td>NaN</td>\n",
              "      <td>NaN</td>\n",
              "      <td>NaN</td>\n",
              "      <td>NaN</td>\n",
              "      <td>Dynamic</td>\n",
              "      <td>NaN</td>\n",
              "      <td>NaN</td>\n",
              "      <td>NaN</td>\n",
              "      <td>None</td>\n",
              "    </tr>\n",
              "    <tr>\n",
              "      <th>3</th>\n",
              "      <td>4</td>\n",
              "      <td>20878750</td>\n",
              "      <td>1</td>\n",
              "      <td>119</td>\n",
              "      <td>66</td>\n",
              "      <td>0</td>\n",
              "      <td>5.571529</td>\n",
              "      <td>-0.146461</td>\n",
              "      <td>5.635828</td>\n",
              "      <td>-0.161359</td>\n",
              "      <td>12</td>\n",
              "      <td>20</td>\n",
              "      <td>3/19/2020 22:30</td>\n",
              "      <td>Ghana International Trade Fair Centre, La Rd, ...</td>\n",
              "      <td>East Legon, Accra, Ghana</td>\n",
              "      <td>3/19/2020 16:29</td>\n",
              "      <td>14</td>\n",
              "      <td>Completed</td>\n",
              "      <td>Cash</td>\n",
              "      <td>3</td>\n",
              "      <td>0</td>\n",
              "      <td>1</td>\n",
              "      <td>1.0</td>\n",
              "      <td>NaN</td>\n",
              "      <td>0</td>\n",
              "      <td>0000-00-00 00:00:00</td>\n",
              "      <td>0</td>\n",
              "      <td>NaN</td>\n",
              "      <td>NaN</td>\n",
              "      <td>Deliver</td>\n",
              "      <td>11</td>\n",
              "      <td>East legon</td>\n",
              "      <td>244038590</td>\n",
              "      <td>Call her when you get there</td>\n",
              "      <td>call her for instructions</td>\n",
              "      <td>other</td>\n",
              "      <td>NaN</td>\n",
              "      <td>0</td>\n",
              "      <td>No</td>\n",
              "      <td>Yes</td>\n",
              "      <td>...</td>\n",
              "      <td>NaN</td>\n",
              "      <td>0</td>\n",
              "      <td>0</td>\n",
              "      <td>0</td>\n",
              "      <td>0</td>\n",
              "      <td>0</td>\n",
              "      <td>0</td>\n",
              "      <td>0</td>\n",
              "      <td>0</td>\n",
              "      <td>0</td>\n",
              "      <td>NaN</td>\n",
              "      <td>Admin</td>\n",
              "      <td>Yes</td>\n",
              "      <td>Passenger</td>\n",
              "      <td>NaN</td>\n",
              "      <td>0</td>\n",
              "      <td>0</td>\n",
              "      <td>NaN</td>\n",
              "      <td>No</td>\n",
              "      <td>0</td>\n",
              "      <td>0</td>\n",
              "      <td>No</td>\n",
              "      <td>NaN</td>\n",
              "      <td>NaN</td>\n",
              "      <td>No</td>\n",
              "      <td>Passanger</td>\n",
              "      <td>NaN</td>\n",
              "      <td>NaN</td>\n",
              "      <td>NaN</td>\n",
              "      <td>NaN</td>\n",
              "      <td>NaN</td>\n",
              "      <td>NaN</td>\n",
              "      <td>NaN</td>\n",
              "      <td>NaN</td>\n",
              "      <td>NaN</td>\n",
              "      <td>Dynamic</td>\n",
              "      <td>NaN</td>\n",
              "      <td>NaN</td>\n",
              "      <td>NaN</td>\n",
              "      <td>None</td>\n",
              "    </tr>\n",
              "    <tr>\n",
              "      <th>4</th>\n",
              "      <td>5</td>\n",
              "      <td>16055725</td>\n",
              "      <td>1</td>\n",
              "      <td>119</td>\n",
              "      <td>66</td>\n",
              "      <td>0</td>\n",
              "      <td>5.571529</td>\n",
              "      <td>-0.146461</td>\n",
              "      <td>5.570663</td>\n",
              "      <td>-0.284979</td>\n",
              "      <td>20</td>\n",
              "      <td>39</td>\n",
              "      <td>3/19/2020 23:30</td>\n",
              "      <td>Ghana International Trade Fair Centre, La Rd, ...</td>\n",
              "      <td>Mallam Junction Station, Gbawe Road, Mallam, G...</td>\n",
              "      <td>3/19/2020 16:44</td>\n",
              "      <td>0</td>\n",
              "      <td>Assign</td>\n",
              "      <td>Cash</td>\n",
              "      <td>3</td>\n",
              "      <td>0</td>\n",
              "      <td>1</td>\n",
              "      <td>1.0</td>\n",
              "      <td>NaN</td>\n",
              "      <td>0</td>\n",
              "      <td>0000-00-00 00:00:00</td>\n",
              "      <td>0</td>\n",
              "      <td>NaN</td>\n",
              "      <td>NaN</td>\n",
              "      <td>Deliver</td>\n",
              "      <td>11</td>\n",
              "      <td>Augesta</td>\n",
              "      <td>548278376</td>\n",
              "      <td>call the number when you get there</td>\n",
              "      <td>deliver to her house</td>\n",
              "      <td>others</td>\n",
              "      <td>NaN</td>\n",
              "      <td>0</td>\n",
              "      <td>Yes</td>\n",
              "      <td>Yes</td>\n",
              "      <td>...</td>\n",
              "      <td>NaN</td>\n",
              "      <td>0</td>\n",
              "      <td>0</td>\n",
              "      <td>0</td>\n",
              "      <td>0</td>\n",
              "      <td>0</td>\n",
              "      <td>0</td>\n",
              "      <td>0</td>\n",
              "      <td>0</td>\n",
              "      <td>0</td>\n",
              "      <td>NaN</td>\n",
              "      <td>Admin</td>\n",
              "      <td>Yes</td>\n",
              "      <td>Passenger</td>\n",
              "      <td>NaN</td>\n",
              "      <td>0</td>\n",
              "      <td>0</td>\n",
              "      <td>NaN</td>\n",
              "      <td>No</td>\n",
              "      <td>0</td>\n",
              "      <td>0</td>\n",
              "      <td>No</td>\n",
              "      <td>NaN</td>\n",
              "      <td>NaN</td>\n",
              "      <td>No</td>\n",
              "      <td>Passanger</td>\n",
              "      <td>NaN</td>\n",
              "      <td>NaN</td>\n",
              "      <td>NaN</td>\n",
              "      <td>NaN</td>\n",
              "      <td>NaN</td>\n",
              "      <td>NaN</td>\n",
              "      <td>NaN</td>\n",
              "      <td>NaN</td>\n",
              "      <td>NaN</td>\n",
              "      <td>Dynamic</td>\n",
              "      <td>NaN</td>\n",
              "      <td>NaN</td>\n",
              "      <td>NaN</td>\n",
              "      <td>None</td>\n",
              "    </tr>\n",
              "  </tbody>\n",
              "</table>\n",
              "<p>5 rows × 116 columns</p>\n",
              "</div>"
            ],
            "text/plain": [
              "   iCabBookingId  vBookingNo  ...  tPickupPhoneNumber  wSenderContactedBy\n",
              "0              1    84361311  ...                 NaN                None\n",
              "1              2    74918494  ...                 NaN                None\n",
              "2              3    95635906  ...                 NaN                None\n",
              "3              4    20878750  ...                 NaN                None\n",
              "4              5    16055725  ...                 NaN                None\n",
              "\n",
              "[5 rows x 116 columns]"
            ]
          },
          "metadata": {
            "tags": []
          },
          "execution_count": 5
        }
      ]
    },
    {
      "cell_type": "code",
      "metadata": {
        "id": "18PwJ7XFfyFZ"
      },
      "source": [
        "booking_columns_to_drop = [\n",
        "    \"iDriverId\",\n",
        "    \"iCompanyId\",\n",
        "    \"iOrganizationId\",\n",
        "    \"iTripId\",\n",
        "    \"iRentalPackageId\",\n",
        "    \"iVehicleTypeId\",\n",
        "    \"iCancelByUserId\",\n",
        "    \"iPackageTypeId\",\n",
        "    \"vReceiverMobile\",\n",
        "#     \"tPickUpIns\",\n",
        "#     \"tDeliveryIns\",\n",
        "#     \"tPackageDetails\",\n",
        "    \"vCouponCode\",\n",
        "    \"iUserPetId\",\n",
        "    \"eMessageSend\",\n",
        "    \"eMessageAdminOne\",\n",
        "    \"eMessageAdminTwo\",\n",
        "    \"iCronStage\",\n",
        "    \"iUserAddressId\",\n",
        "    \"tUserComment\",\n",
        "    \"iTempTripDeliveryLocationId\",\n",
        "    \"iAirportLocationId\",\n",
        "    \"fTax1\",\n",
        "    \"fTax2\",\n",
        "    \"fTax1Percentage\",\n",
        "    \"fTax2Percentage\",\n",
        "    \"iAdminId\",\n",
        "    \"iHotelBookingId\",\n",
        "    \"vRiderRoomNubmer\",\n",
        "    \"vProfileEmail\",\n",
        "    \"iUserProfileId\",\n",
        "    \"iTripReasonId\",\n",
        "    \"vReasonTitle\",\n",
        "    \"eTripReason\",\n",
        "    \"vWorkLocation\",\n",
        "    \"vWorkLocationLatitude\",\n",
        "    \"vWorkLocationLongitude\",\n",
        "    \"eSelectWorkLocation\",\n",
        "    \"tReceiverPhoneCode\",\n",
        "    \"tPickupPhoneCode\",\n",
        "    \"tPickupPhoneNumber\",\n",
        "    \"iUserId\",\n",
        "    \"eHandiCapAccessibility\",\n",
        "    \"eHandiCapAccessibility\",\n",
        "    \"eCommisionDeductEnable\",\n",
        "    \"vBookSomeOneName\",\n",
        "    \"vBookSomeOneNumber\",\n",
        "    \"iCabBookingId\",\n",
        "    \"vSourceAddresss\",\n",
        "    \"tDestAddress\",\n",
        "    \"vSourceLatitude\",\n",
        "    \"vSourceLongitude\",\n",
        "    \"vDestLatitude\",\n",
        "    \"vSourceLongitude\",\n",
        "    \"iCancelReasonId\",\n",
        "    \"fDriverDiscount\",\n",
        "    \"dCancelDate\",\n",
        "    \"eCancelBy\",\n",
        "    \"vDistance\",\n",
        "    \"vDuration\",\n",
        "    \"vDestLongitude\",\n",
        "    \"ePayType\",\n",
        "    \"ePayType\",\n",
        "    \"fPickUpPrice\",\n",
        "    \"fNightPrice\",\n",
        "    \"vFailReason\",\n",
        "    \"vCancelReason\",\n",
        "#     \"vReceiverName\",\n",
        "    \"eAutoAssign\",\n",
        "    \"iQty\",\n",
        "    \"fVisitFee\",\n",
        "    \"fMaterialFee\",\n",
        "    \"fMiscFee\",\n",
        "    \"vRideCountry\",\n",
        "    \"fTollPrice\",\n",
        "    \"vTollPriceCurrencyCode\",\n",
        "    \"eTollSkipped\",\n",
        "    \"eFemaleDriverRequest\",\n",
        "    \"vTimeZone\",\n",
        "    \"fWalletMinBalance\",\n",
        "    \"fWalletBalance\",\n",
        "    \"ePaymentByReceiver\",\n",
        "    \"fTripGenerateFare\",\n",
        "    \"eCancelBySystem\",\n",
        "    \"eFlatTrip\",\n",
        "    \"fFlatTripPrice\",\n",
        "    \"eAirportLocation\",\n",
        "    \"iFare\",\n",
        "    \"iBaseFare\",\n",
        "    \"fPricePerMin\",\n",
        "    \"fPricePerKM\",\n",
        "    \"fCommision\",\n",
        "    \"fSurgePriceDiff\",\n",
        "    \"fDiscount\",\n",
        "    \"vDiscount\",\n",
        "    \"fMinFareDiff\",\n",
        "    \"fOutStandingAmount\",\n",
        "    \"eBookingFrom\",\n",
        "    \"eWalletDebitAllow\",\n",
        "    \"ePaymentBy\",\n",
        "    \"fAirportPickupSurge\",\n",
        "    \"fAirportDropoffSurge\",\n",
        "    \"eBookForSomeOneElse\",\n",
        "    \"ePayWallet\",\n",
        "    \"eServiceLocation\",\n",
        "    \"tVehicleTypeData\",\n",
        "    \"tVehicleTypeFareData\",\n",
        "    \"tTotalDuration\",\n",
        "    \"tTotalDistance\",\n",
        "    \"tEstimatedCharge\",\n",
        "    \"tUserWalletBalance\",\n",
        "    \"eAssigned\",\n",
        "    \"fWalletDebit\",\n",
        "    \"vBookingNo\",\n",
        "    \"eStatus\",\n",
        "    \"dBooking_date\",\n",
        "    \"wSenderContactedBy\",\n",
        "   \"dAddedDate\",\n",
        "    \"eType\"\n",
        "]"
      ],
      "execution_count": 6,
      "outputs": []
    },
    {
      "cell_type": "code",
      "metadata": {
        "id": "yE5bsrH9fyFa"
      },
      "source": [
        "request_columns_to_drop = [\n",
        "    \"iCabRequestId\",\n",
        "    \"fAirportPickupSurge\",\n",
        "    \"fAirportDropoffSurge\",\n",
        "    \"iCabBookingId\",\n",
        "    \"iUserId\",\n",
        "    \"iDriverId\",\n",
        "    \"iOrganizationId\",\n",
        "    \"iHotelId\",\n",
        "    \"tMsgCode\",\n",
        "    \"iTripId\",\n",
        "    \"vSourceLatitude\",\n",
        "    \"vSourceLongitude\",\n",
        "    \"tSourceAddress\",\n",
        "    \"vDestLatitude\",\n",
        "    \"vDestLongitude\",\n",
        "    \"tDestAddress\",\n",
        "    \"ePayType\",\n",
        "    \"iVehicleTypeId\",\n",
        "    \"iRentalPackageId\",\n",
        "    \"fPickUpPrice\",\n",
        "    \"fNightPrice\",\n",
        "    \"iPackageTypeId\",\n",
        "#     \"vReceiverName\",\n",
        "    \"vReceiverMobile\",\n",
        "#     \"tPickUpIns\",\n",
        "#     \"tDeliveryIns\",\n",
        "#     \"tPackageDetails\",\n",
        "    \"vCouponCode\",\n",
        "    \"iQty\",\n",
        "    \"vRideCountry\",\n",
        "    \"fTollPrice\",\n",
        "    \"vTollPriceCurrencyCode\",\n",
        "    \"eTollSkipped\",\n",
        "    \"eFemaleDriverRequest\",\n",
        "    \"eHandiCapAccessibility\",\n",
        "    \"vTimeZone\",\n",
        "    \"eFromCronJob\",\n",
        "    \"iUserAddressId\",\n",
        "    \"tUserComment\",\n",
        "    \"iTempTripDeliveryLocationId\",\n",
        "    \"ePaymentByReceiver\",\n",
        "    \"fDuration\",\n",
        "    \"fDistance\",\n",
        "    \"fTripGenerateFare\",\n",
        "    \"eFlatTrip\",\n",
        "    \"fFlatTripPrice\",\n",
        "    \"iAirportLocationId\",\n",
        "    \"eAirportLocation\",\n",
        "    \"iFare\",\n",
        "    \"iBaseFare\",\n",
        "    \"fPricePerMin\",\n",
        "    \"fPricePerKM\",\n",
        "    \"fCommision\",\n",
        "    \"fSurgePriceDiff\",\n",
        "    \"fDiscount\",\n",
        "    \"vDiscount\",\n",
        "    \"fMinFareDiff\",\n",
        "    \"fWalletDebit\",\n",
        "    \"fTax1\",\n",
        "    \"fTax2\",\n",
        "    \"fTax1Percentage\",\n",
        "    \"fTax2Percentage\",\n",
        "    \"fOutStandingAmount\",\n",
        "    \"eBookingFrom\",\n",
        "    \"iHotelBookingId\",\n",
        "    \"eWalletDebitAllow\",\n",
        "    \"eSystem\",\n",
        "    \"ePaymentBy\",\n",
        "    \"vProfileEmail\",\n",
        "    \"iUserProfileId\",\n",
        "    \"iTripReasonId\",\n",
        "    \"vReasonTitle\",\n",
        "    \"eTripReason\",\n",
        "    \"ePoolRide\",\n",
        "    \"iPersonSize\",\n",
        "    \"eBookForSomeOneElse\",\n",
        "    \"vBookSomeOneName\",\n",
        "    \"vBookSomeOneNumber\",\n",
        "    \"ePayWallet\",\n",
        "    \"eServiceLocation\",\n",
        "    \"tVehicleTypeData\",\n",
        "    \"tVehicleTypeFareData\",\n",
        "    \"tTotalDuration\",\n",
        "    \"tTotalDistance\",\n",
        "    \"tEstimatedCharge\",\n",
        "    \"tUserWalletBalance\",\n",
        "    \"tEditHistory\",\n",
        "    \"tReceiverPhoneCode\",\n",
        "    \"tPickupPhoneCode\",\n",
        "    \"tPickupPhoneNumber\",\n",
        "    \"eStatus\",\n",
        "    \"dAddedDate\",\n",
        "    \"eType\"\n",
        "]"
      ],
      "execution_count": 7,
      "outputs": []
    },
    {
      "cell_type": "code",
      "metadata": {
        "id": "wKtXncYOfyFb"
      },
      "source": [
        "df_booking.drop(booking_columns_to_drop,  axis=1, inplace=True)"
      ],
      "execution_count": 8,
      "outputs": []
    },
    {
      "cell_type": "code",
      "metadata": {
        "colab": {
          "base_uri": "https://localhost:8080/",
          "height": 206
        },
        "id": "S4oI8P7DfyFc",
        "outputId": "f022238c-47c3-4e19-dd60-96da86e4ae08"
      },
      "source": [
        "df_booking.head()"
      ],
      "execution_count": 9,
      "outputs": [
        {
          "output_type": "execute_result",
          "data": {
            "text/html": [
              "<div>\n",
              "<style scoped>\n",
              "    .dataframe tbody tr th:only-of-type {\n",
              "        vertical-align: middle;\n",
              "    }\n",
              "\n",
              "    .dataframe tbody tr th {\n",
              "        vertical-align: top;\n",
              "    }\n",
              "\n",
              "    .dataframe thead th {\n",
              "        text-align: right;\n",
              "    }\n",
              "</style>\n",
              "<table border=\"1\" class=\"dataframe\">\n",
              "  <thead>\n",
              "    <tr style=\"text-align: right;\">\n",
              "      <th></th>\n",
              "      <th>vReceiverName</th>\n",
              "      <th>tPickUpIns</th>\n",
              "      <th>tDeliveryIns</th>\n",
              "      <th>tPackageDetails</th>\n",
              "    </tr>\n",
              "  </thead>\n",
              "  <tbody>\n",
              "    <tr>\n",
              "      <th>0</th>\n",
              "      <td>Kwesi Emma</td>\n",
              "      <td>I'm wearing a white top</td>\n",
              "      <td>deliver it to the store</td>\n",
              "      <td>food</td>\n",
              "    </tr>\n",
              "    <tr>\n",
              "      <th>1</th>\n",
              "      <td>Kwesi Emma</td>\n",
              "      <td>I'm wearing a white top</td>\n",
              "      <td>deliver it to the store</td>\n",
              "      <td>clothe</td>\n",
              "    </tr>\n",
              "    <tr>\n",
              "      <th>2</th>\n",
              "      <td>Ewura Esi</td>\n",
              "      <td>call eric 0278065388 to pick up item</td>\n",
              "      <td>call receiver when at destination</td>\n",
              "      <td>polo shirts 5</td>\n",
              "    </tr>\n",
              "    <tr>\n",
              "      <th>3</th>\n",
              "      <td>East legon</td>\n",
              "      <td>Call her when you get there</td>\n",
              "      <td>call her for instructions</td>\n",
              "      <td>other</td>\n",
              "    </tr>\n",
              "    <tr>\n",
              "      <th>4</th>\n",
              "      <td>Augesta</td>\n",
              "      <td>call the number when you get there</td>\n",
              "      <td>deliver to her house</td>\n",
              "      <td>others</td>\n",
              "    </tr>\n",
              "  </tbody>\n",
              "</table>\n",
              "</div>"
            ],
            "text/plain": [
              "  vReceiverName  ... tPackageDetails\n",
              "0    Kwesi Emma  ...            food\n",
              "1    Kwesi Emma  ...          clothe\n",
              "2     Ewura Esi  ...   polo shirts 5\n",
              "3    East legon  ...           other\n",
              "4       Augesta  ...          others\n",
              "\n",
              "[5 rows x 4 columns]"
            ]
          },
          "metadata": {
            "tags": []
          },
          "execution_count": 9
        }
      ]
    },
    {
      "cell_type": "code",
      "metadata": {
        "colab": {
          "base_uri": "https://localhost:8080/",
          "height": 206
        },
        "id": "bsXBeeZ1fyFd",
        "outputId": "b2557c52-dc44-4862-fe7c-0b6b77d54172"
      },
      "source": [
        "df_booking.tail()"
      ],
      "execution_count": null,
      "outputs": [
        {
          "output_type": "execute_result",
          "data": {
            "text/html": [
              "<div>\n",
              "<style scoped>\n",
              "    .dataframe tbody tr th:only-of-type {\n",
              "        vertical-align: middle;\n",
              "    }\n",
              "\n",
              "    .dataframe tbody tr th {\n",
              "        vertical-align: top;\n",
              "    }\n",
              "\n",
              "    .dataframe thead th {\n",
              "        text-align: right;\n",
              "    }\n",
              "</style>\n",
              "<table border=\"1\" class=\"dataframe\">\n",
              "  <thead>\n",
              "    <tr style=\"text-align: right;\">\n",
              "      <th></th>\n",
              "      <th>vReceiverName</th>\n",
              "      <th>tPickUpIns</th>\n",
              "      <th>tDeliveryIns</th>\n",
              "      <th>tPackageDetails</th>\n",
              "    </tr>\n",
              "  </thead>\n",
              "  <tbody>\n",
              "    <tr>\n",
              "      <th>9998</th>\n",
              "      <td>La Tua Villas</td>\n",
              "      <td>pick up from Obojo warehouse storey building t...</td>\n",
              "      <td>near SDA Church Adenta</td>\n",
              "      <td>5 boxes of sanitizer</td>\n",
              "    </tr>\n",
              "    <tr>\n",
              "      <th>9999</th>\n",
              "      <td>jtuty</td>\n",
              "      <td>urgent</td>\n",
              "      <td>urgent</td>\n",
              "      <td>hair</td>\n",
              "    </tr>\n",
              "    <tr>\n",
              "      <th>10000</th>\n",
              "      <td>na</td>\n",
              "      <td>please pickup as soon as possible</td>\n",
              "      <td>please deliver on time it urgent</td>\n",
              "      <td>mobile phone</td>\n",
              "    </tr>\n",
              "    <tr>\n",
              "      <th>10001</th>\n",
              "      <td>Mavis</td>\n",
              "      <td>Abokobi</td>\n",
              "      <td>To Mavis</td>\n",
              "      <td>Rice milk mackereal T roll</td>\n",
              "    </tr>\n",
              "    <tr>\n",
              "      <th>10002</th>\n",
              "      <td>Mary</td>\n",
              "      <td>Please pick up early</td>\n",
              "      <td>Its a short program so delivery should be made...</td>\n",
              "      <td>Gift</td>\n",
              "    </tr>\n",
              "  </tbody>\n",
              "</table>\n",
              "</div>"
            ],
            "text/plain": [
              "       vReceiverName  ...             tPackageDetails\n",
              "9998   La Tua Villas  ...        5 boxes of sanitizer\n",
              "9999           jtuty  ...                        hair\n",
              "10000             na  ...                mobile phone\n",
              "10001          Mavis  ...  Rice milk mackereal T roll\n",
              "10002          Mary   ...                        Gift\n",
              "\n",
              "[5 rows x 4 columns]"
            ]
          },
          "metadata": {
            "tags": []
          },
          "execution_count": 44
        }
      ]
    },
    {
      "cell_type": "code",
      "metadata": {
        "id": "vhduYnk2fyFf"
      },
      "source": [
        "df_request.drop(request_columns_to_drop,  axis=1, inplace=True)"
      ],
      "execution_count": 11,
      "outputs": []
    },
    {
      "cell_type": "code",
      "metadata": {
        "colab": {
          "base_uri": "https://localhost:8080/",
          "height": 206
        },
        "id": "rsLwyaRVfyFf",
        "outputId": "9c71c90c-420b-4354-cbb1-8108232bfa98"
      },
      "source": [
        "df_request.head()"
      ],
      "execution_count": 12,
      "outputs": [
        {
          "output_type": "execute_result",
          "data": {
            "text/html": [
              "<div>\n",
              "<style scoped>\n",
              "    .dataframe tbody tr th:only-of-type {\n",
              "        vertical-align: middle;\n",
              "    }\n",
              "\n",
              "    .dataframe tbody tr th {\n",
              "        vertical-align: top;\n",
              "    }\n",
              "\n",
              "    .dataframe thead th {\n",
              "        text-align: right;\n",
              "    }\n",
              "</style>\n",
              "<table border=\"1\" class=\"dataframe\">\n",
              "  <thead>\n",
              "    <tr style=\"text-align: right;\">\n",
              "      <th></th>\n",
              "      <th>vReceiverName</th>\n",
              "      <th>tPickUpIns</th>\n",
              "      <th>tDeliveryIns</th>\n",
              "      <th>tPackageDetails</th>\n",
              "    </tr>\n",
              "  </thead>\n",
              "  <tbody>\n",
              "    <tr>\n",
              "      <th>0</th>\n",
              "      <td>tedt</td>\n",
              "      <td>uccug</td>\n",
              "      <td>cuvuvuv</td>\n",
              "      <td>ycyvubub8bib8</td>\n",
              "    </tr>\n",
              "    <tr>\n",
              "      <th>1</th>\n",
              "      <td>tedt</td>\n",
              "      <td>uccug</td>\n",
              "      <td>cuvuvuv</td>\n",
              "      <td>ycyvubub8bib8</td>\n",
              "    </tr>\n",
              "    <tr>\n",
              "      <th>2</th>\n",
              "      <td>Kofi</td>\n",
              "      <td>pick up</td>\n",
              "      <td>drop</td>\n",
              "      <td>jollof</td>\n",
              "    </tr>\n",
              "    <tr>\n",
              "      <th>3</th>\n",
              "      <td>Nana kay</td>\n",
              "      <td>yh</td>\n",
              "      <td>drop</td>\n",
              "      <td>phone</td>\n",
              "    </tr>\n",
              "    <tr>\n",
              "      <th>4</th>\n",
              "      <td>eunice</td>\n",
              "      <td>pick up from patience</td>\n",
              "      <td>deliver only to Eunice</td>\n",
              "      <td>delicate</td>\n",
              "    </tr>\n",
              "  </tbody>\n",
              "</table>\n",
              "</div>"
            ],
            "text/plain": [
              "  vReceiverName             tPickUpIns            tDeliveryIns tPackageDetails\n",
              "0          tedt                  uccug                 cuvuvuv   ycyvubub8bib8\n",
              "1          tedt                  uccug                 cuvuvuv   ycyvubub8bib8\n",
              "2          Kofi                pick up                    drop          jollof\n",
              "3      Nana kay                     yh                    drop           phone\n",
              "4        eunice  pick up from patience  deliver only to Eunice        delicate"
            ]
          },
          "metadata": {
            "tags": []
          },
          "execution_count": 12
        }
      ]
    },
    {
      "cell_type": "code",
      "metadata": {
        "colab": {
          "base_uri": "https://localhost:8080/",
          "height": 206
        },
        "id": "XTqvFcm-fyFf",
        "outputId": "68a23c60-9c0b-4e58-8953-f71b21f25733"
      },
      "source": [
        "df_request.tail()"
      ],
      "execution_count": null,
      "outputs": [
        {
          "output_type": "execute_result",
          "data": {
            "text/html": [
              "<div>\n",
              "<style scoped>\n",
              "    .dataframe tbody tr th:only-of-type {\n",
              "        vertical-align: middle;\n",
              "    }\n",
              "\n",
              "    .dataframe tbody tr th {\n",
              "        vertical-align: top;\n",
              "    }\n",
              "\n",
              "    .dataframe thead th {\n",
              "        text-align: right;\n",
              "    }\n",
              "</style>\n",
              "<table border=\"1\" class=\"dataframe\">\n",
              "  <thead>\n",
              "    <tr style=\"text-align: right;\">\n",
              "      <th></th>\n",
              "      <th>vReceiverName</th>\n",
              "      <th>tPickUpIns</th>\n",
              "      <th>tDeliveryIns</th>\n",
              "      <th>tPackageDetails</th>\n",
              "    </tr>\n",
              "  </thead>\n",
              "  <tbody>\n",
              "    <tr>\n",
              "      <th>22213</th>\n",
              "      <td>Rhida</td>\n",
              "      <td>0272980544</td>\n",
              "      <td>cable</td>\n",
              "      <td>cable</td>\n",
              "    </tr>\n",
              "    <tr>\n",
              "      <th>22214</th>\n",
              "      <td>Stephanie</td>\n",
              "      <td>lakeside</td>\n",
              "      <td>pokuasi</td>\n",
              "      <td>clothes</td>\n",
              "    </tr>\n",
              "    <tr>\n",
              "      <th>22215</th>\n",
              "      <td>Stephanie</td>\n",
              "      <td>lakeside</td>\n",
              "      <td>pokuasi</td>\n",
              "      <td>clothes</td>\n",
              "    </tr>\n",
              "    <tr>\n",
              "      <th>22216</th>\n",
              "      <td>Addo Benjamin</td>\n",
              "      <td>SpeedSmoke Services 0203668614 Call him</td>\n",
              "      <td>Ablekuma Fan Milk</td>\n",
              "      <td>Medicine</td>\n",
              "    </tr>\n",
              "    <tr>\n",
              "      <th>22217</th>\n",
              "      <td>Addo Benjamin</td>\n",
              "      <td>SpeedSmoke Services 0203668614 Call him</td>\n",
              "      <td>Ablekuma Fan Milk</td>\n",
              "      <td>Medicine</td>\n",
              "    </tr>\n",
              "  </tbody>\n",
              "</table>\n",
              "</div>"
            ],
            "text/plain": [
              "       vReceiverName  ... tPackageDetails\n",
              "22213          Rhida  ...           cable\n",
              "22214      Stephanie  ...         clothes\n",
              "22215      Stephanie  ...         clothes\n",
              "22216  Addo Benjamin  ...        Medicine\n",
              "22217  Addo Benjamin  ...        Medicine\n",
              "\n",
              "[5 rows x 4 columns]"
            ]
          },
          "metadata": {
            "tags": []
          },
          "execution_count": 47
        }
      ]
    },
    {
      "cell_type": "code",
      "metadata": {
        "id": "j6IChh8QfyFg"
      },
      "source": [
        "df = df_request.append(df_booking)"
      ],
      "execution_count": 13,
      "outputs": []
    },
    {
      "cell_type": "code",
      "metadata": {
        "colab": {
          "base_uri": "https://localhost:8080/",
          "height": 363
        },
        "id": "4A9NjLXAfyFg",
        "outputId": "3e02bf7c-14bb-4c76-df32-ca7e59b1c578"
      },
      "source": [
        "df.head(10)"
      ],
      "execution_count": null,
      "outputs": [
        {
          "output_type": "execute_result",
          "data": {
            "text/html": [
              "<div>\n",
              "<style scoped>\n",
              "    .dataframe tbody tr th:only-of-type {\n",
              "        vertical-align: middle;\n",
              "    }\n",
              "\n",
              "    .dataframe tbody tr th {\n",
              "        vertical-align: top;\n",
              "    }\n",
              "\n",
              "    .dataframe thead th {\n",
              "        text-align: right;\n",
              "    }\n",
              "</style>\n",
              "<table border=\"1\" class=\"dataframe\">\n",
              "  <thead>\n",
              "    <tr style=\"text-align: right;\">\n",
              "      <th></th>\n",
              "      <th>vReceiverName</th>\n",
              "      <th>tPickUpIns</th>\n",
              "      <th>tDeliveryIns</th>\n",
              "      <th>tPackageDetails</th>\n",
              "    </tr>\n",
              "  </thead>\n",
              "  <tbody>\n",
              "    <tr>\n",
              "      <th>0</th>\n",
              "      <td>tedt</td>\n",
              "      <td>uccug</td>\n",
              "      <td>cuvuvuv</td>\n",
              "      <td>ycyvubub8bib8</td>\n",
              "    </tr>\n",
              "    <tr>\n",
              "      <th>1</th>\n",
              "      <td>tedt</td>\n",
              "      <td>uccug</td>\n",
              "      <td>cuvuvuv</td>\n",
              "      <td>ycyvubub8bib8</td>\n",
              "    </tr>\n",
              "    <tr>\n",
              "      <th>2</th>\n",
              "      <td>Kofi</td>\n",
              "      <td>pick up</td>\n",
              "      <td>drop</td>\n",
              "      <td>jollof</td>\n",
              "    </tr>\n",
              "    <tr>\n",
              "      <th>3</th>\n",
              "      <td>Nana kay</td>\n",
              "      <td>yh</td>\n",
              "      <td>drop</td>\n",
              "      <td>phone</td>\n",
              "    </tr>\n",
              "    <tr>\n",
              "      <th>4</th>\n",
              "      <td>eunice</td>\n",
              "      <td>pick up from patience</td>\n",
              "      <td>deliver only to Eunice</td>\n",
              "      <td>delicate</td>\n",
              "    </tr>\n",
              "    <tr>\n",
              "      <th>5</th>\n",
              "      <td>Abel</td>\n",
              "      <td>call</td>\n",
              "      <td>drop</td>\n",
              "      <td>docs</td>\n",
              "    </tr>\n",
              "    <tr>\n",
              "      <th>6</th>\n",
              "      <td>Abel</td>\n",
              "      <td>call</td>\n",
              "      <td>deop</td>\n",
              "      <td>docs</td>\n",
              "    </tr>\n",
              "    <tr>\n",
              "      <th>7</th>\n",
              "      <td>Emma</td>\n",
              "      <td>call</td>\n",
              "      <td>drop</td>\n",
              "      <td>cloth</td>\n",
              "    </tr>\n",
              "    <tr>\n",
              "      <th>8</th>\n",
              "      <td>Abel</td>\n",
              "      <td>at the office</td>\n",
              "      <td>drop</td>\n",
              "      <td>phone</td>\n",
              "    </tr>\n",
              "    <tr>\n",
              "      <th>9</th>\n",
              "      <td>Joseph Abizi</td>\n",
              "      <td>Take money</td>\n",
              "      <td>Take money</td>\n",
              "      <td>y</td>\n",
              "    </tr>\n",
              "  </tbody>\n",
              "</table>\n",
              "</div>"
            ],
            "text/plain": [
              "  vReceiverName             tPickUpIns            tDeliveryIns tPackageDetails\n",
              "0          tedt                  uccug                 cuvuvuv   ycyvubub8bib8\n",
              "1          tedt                  uccug                 cuvuvuv   ycyvubub8bib8\n",
              "2          Kofi                pick up                    drop          jollof\n",
              "3      Nana kay                     yh                    drop           phone\n",
              "4        eunice  pick up from patience  deliver only to Eunice        delicate\n",
              "5          Abel                  call                     drop            docs\n",
              "6          Abel                   call                    deop            docs\n",
              "7          Emma                  call                     drop           cloth\n",
              "8          Abel          at the office                    drop          phone \n",
              "9  Joseph Abizi             Take money              Take money               y"
            ]
          },
          "metadata": {
            "tags": []
          },
          "execution_count": 49
        }
      ]
    },
    {
      "cell_type": "code",
      "metadata": {
        "id": "UYPD89i6fyFg"
      },
      "source": [
        "df = df.dropna()"
      ],
      "execution_count": 14,
      "outputs": []
    },
    {
      "cell_type": "code",
      "metadata": {
        "colab": {
          "base_uri": "https://localhost:8080/"
        },
        "id": "wBBq770hfyFh",
        "outputId": "e4c627de-1e46-4911-c295-6aadd4fb7e7d"
      },
      "source": [
        "df.isnull().any()"
      ],
      "execution_count": 15,
      "outputs": [
        {
          "output_type": "execute_result",
          "data": {
            "text/plain": [
              "vReceiverName      False\n",
              "tPickUpIns         False\n",
              "tDeliveryIns       False\n",
              "tPackageDetails    False\n",
              "dtype: bool"
            ]
          },
          "metadata": {
            "tags": []
          },
          "execution_count": 15
        }
      ]
    },
    {
      "cell_type": "code",
      "metadata": {
        "colab": {
          "base_uri": "https://localhost:8080/",
          "height": 206
        },
        "id": "YSOTCd9wfyFh",
        "outputId": "cc3c7548-5e8b-4f82-9da9-c1e428356b2b"
      },
      "source": [
        "df.head()"
      ],
      "execution_count": null,
      "outputs": [
        {
          "output_type": "execute_result",
          "data": {
            "text/html": [
              "<div>\n",
              "<style scoped>\n",
              "    .dataframe tbody tr th:only-of-type {\n",
              "        vertical-align: middle;\n",
              "    }\n",
              "\n",
              "    .dataframe tbody tr th {\n",
              "        vertical-align: top;\n",
              "    }\n",
              "\n",
              "    .dataframe thead th {\n",
              "        text-align: right;\n",
              "    }\n",
              "</style>\n",
              "<table border=\"1\" class=\"dataframe\">\n",
              "  <thead>\n",
              "    <tr style=\"text-align: right;\">\n",
              "      <th></th>\n",
              "      <th>vReceiverName</th>\n",
              "      <th>tPickUpIns</th>\n",
              "      <th>tDeliveryIns</th>\n",
              "      <th>tPackageDetails</th>\n",
              "    </tr>\n",
              "  </thead>\n",
              "  <tbody>\n",
              "    <tr>\n",
              "      <th>0</th>\n",
              "      <td>tedt</td>\n",
              "      <td>uccug</td>\n",
              "      <td>cuvuvuv</td>\n",
              "      <td>ycyvubub8bib8</td>\n",
              "    </tr>\n",
              "    <tr>\n",
              "      <th>1</th>\n",
              "      <td>tedt</td>\n",
              "      <td>uccug</td>\n",
              "      <td>cuvuvuv</td>\n",
              "      <td>ycyvubub8bib8</td>\n",
              "    </tr>\n",
              "    <tr>\n",
              "      <th>2</th>\n",
              "      <td>Kofi</td>\n",
              "      <td>pick up</td>\n",
              "      <td>drop</td>\n",
              "      <td>jollof</td>\n",
              "    </tr>\n",
              "    <tr>\n",
              "      <th>3</th>\n",
              "      <td>Nana kay</td>\n",
              "      <td>yh</td>\n",
              "      <td>drop</td>\n",
              "      <td>phone</td>\n",
              "    </tr>\n",
              "    <tr>\n",
              "      <th>4</th>\n",
              "      <td>eunice</td>\n",
              "      <td>pick up from patience</td>\n",
              "      <td>deliver only to Eunice</td>\n",
              "      <td>delicate</td>\n",
              "    </tr>\n",
              "  </tbody>\n",
              "</table>\n",
              "</div>"
            ],
            "text/plain": [
              "  vReceiverName             tPickUpIns            tDeliveryIns tPackageDetails\n",
              "0          tedt                  uccug                 cuvuvuv   ycyvubub8bib8\n",
              "1          tedt                  uccug                 cuvuvuv   ycyvubub8bib8\n",
              "2          Kofi                pick up                    drop          jollof\n",
              "3      Nana kay                     yh                    drop           phone\n",
              "4        eunice  pick up from patience  deliver only to Eunice        delicate"
            ]
          },
          "metadata": {
            "tags": []
          },
          "execution_count": 52
        }
      ]
    },
    {
      "cell_type": "code",
      "metadata": {
        "id": "ME6yrHLtfyFh"
      },
      "source": [
        "tokenizer = Tokenizer()\n",
        "corpus = []"
      ],
      "execution_count": 16,
      "outputs": []
    },
    {
      "cell_type": "code",
      "metadata": {
        "id": "Yg4DCfcAfyFh"
      },
      "source": [
        "# corpus.append(x for x in list(df['tPickUpIns']))\n",
        "for x in list(df['tPickUpIns']):\n",
        "    corpus.append(x)"
      ],
      "execution_count": 17,
      "outputs": []
    },
    {
      "cell_type": "code",
      "metadata": {
        "id": "3gr5NWmPfyFh"
      },
      "source": [
        "# corpus.append(x for x in list(df['tDeliveryIns']))\n",
        "for x in list(df['tDeliveryIns']):\n",
        "    corpus.append(x)"
      ],
      "execution_count": 18,
      "outputs": []
    },
    {
      "cell_type": "code",
      "metadata": {
        "colab": {
          "base_uri": "https://localhost:8080/"
        },
        "id": "ADlgICjxfyFh",
        "outputId": "ca2bcbb5-9d7b-45b2-bbcb-3055c10f9993"
      },
      "source": [
        "len(corpus)"
      ],
      "execution_count": null,
      "outputs": [
        {
          "output_type": "execute_result",
          "data": {
            "text/plain": [
              "58934"
            ]
          },
          "metadata": {
            "tags": []
          },
          "execution_count": 15
        }
      ]
    },
    {
      "cell_type": "code",
      "metadata": {
        "id": "pxPOPD-TfyFi"
      },
      "source": [
        "tokenizer.fit_on_texts(corpus)\n",
        "total_words = len(tokenizer.word_index) + 1 "
      ],
      "execution_count": 19,
      "outputs": []
    },
    {
      "cell_type": "code",
      "metadata": {
        "colab": {
          "base_uri": "https://localhost:8080/"
        },
        "id": "RAOb2PE8fyFi",
        "outputId": "2d6aaa96-72fa-4574-be00-3cf05e199571"
      },
      "source": [
        "total_words"
      ],
      "execution_count": null,
      "outputs": [
        {
          "output_type": "execute_result",
          "data": {
            "text/plain": [
              "10146"
            ]
          },
          "metadata": {
            "tags": []
          },
          "execution_count": 58
        }
      ]
    },
    {
      "cell_type": "code",
      "metadata": {
        "id": "o-dY8b_yfyFi"
      },
      "source": [
        "input_sequences = []\n",
        "for line in corpus:\n",
        "    token_list = tokenizer.texts_to_sequences([line])[0]\n",
        "    for i in range(1, len(token_list)):\n",
        "        n_gram_sequence = token_list[:i+1]\n",
        "        input_sequences.append(n_gram_sequence)"
      ],
      "execution_count": 20,
      "outputs": []
    },
    {
      "cell_type": "code",
      "metadata": {
        "id": "zCjPgrawfyFj"
      },
      "source": [
        "max_sequence_len = max([len(x) for x in input_sequences])"
      ],
      "execution_count": 21,
      "outputs": []
    },
    {
      "cell_type": "code",
      "metadata": {
        "colab": {
          "base_uri": "https://localhost:8080/"
        },
        "id": "OQm4XgyVfyFk",
        "outputId": "12ccab74-b6e3-4eef-b02c-c17082b0ece4"
      },
      "source": [
        "max_sequence_len"
      ],
      "execution_count": 22,
      "outputs": [
        {
          "output_type": "execute_result",
          "data": {
            "text/plain": [
              "57"
            ]
          },
          "metadata": {
            "tags": []
          },
          "execution_count": 22
        }
      ]
    },
    {
      "cell_type": "code",
      "metadata": {
        "id": "w7o2dO4yfyFk"
      },
      "source": [
        "input_sequences = np.array(pad_sequences(input_sequences, maxlen=max_sequence_len, padding='pre'))"
      ],
      "execution_count": 23,
      "outputs": []
    },
    {
      "cell_type": "code",
      "metadata": {
        "colab": {
          "base_uri": "https://localhost:8080/"
        },
        "id": "aKzYP2-QfyFk",
        "outputId": "3b9393eb-9b09-4b45-aaa4-7e43ec6f3436"
      },
      "source": [
        "input_sequences"
      ],
      "execution_count": null,
      "outputs": [
        {
          "output_type": "execute_result",
          "data": {
            "text/plain": [
              "array([[  0,   0,   0, ...,   0,   4,   5],\n",
              "       [  0,   0,   0, ...,   0,   4,   5],\n",
              "       [  0,   0,   0, ...,   4,   5,  13],\n",
              "       ...,\n",
              "       [  0,   0,   0, ...,  12,  57,  20],\n",
              "       [  0,   0,   0, ...,  57,  20, 241],\n",
              "       [  0,   0,   0, ...,  20, 241, 399]], dtype=int32)"
            ]
          },
          "metadata": {
            "tags": []
          },
          "execution_count": 63
        }
      ]
    },
    {
      "cell_type": "code",
      "metadata": {
        "id": "aTsmqLh7fyFl"
      },
      "source": [
        "xs = input_sequences[:,:-1]"
      ],
      "execution_count": 24,
      "outputs": []
    },
    {
      "cell_type": "code",
      "metadata": {
        "id": "lsK8-ummfyFl"
      },
      "source": [
        "labels = input_sequences[:,-1]"
      ],
      "execution_count": 25,
      "outputs": []
    },
    {
      "cell_type": "code",
      "metadata": {
        "id": "y2CEeVjFfyFl"
      },
      "source": [
        "ys = to_categorical(labels, num_classes=total_words)"
      ],
      "execution_count": 26,
      "outputs": []
    },
    {
      "cell_type": "code",
      "metadata": {
        "id": "Sf3acnoMfyFl"
      },
      "source": [
        "model = tf.keras.Sequential([\n",
        "    Embedding(total_words, 30, input_length=max_sequence_len-1),\n",
        "    Bidirectional(LSTM(150, return_sequences=True )),\n",
        "    LSTM(units=30 ),\n",
        "    Dense(units=320, activation='relu'), \n",
        "    Dense(total_words, activation='softmax'),\n",
        "])"
      ],
      "execution_count": 27,
      "outputs": []
    },
    {
      "cell_type": "code",
      "metadata": {
        "colab": {
          "base_uri": "https://localhost:8080/"
        },
        "id": "JLhPfaE2fyFl",
        "outputId": "8d49e9c1-891c-48ed-f224-9fe5339a2f06"
      },
      "source": [
        "model.summary()"
      ],
      "execution_count": 28,
      "outputs": [
        {
          "output_type": "stream",
          "text": [
            "Model: \"sequential\"\n",
            "_________________________________________________________________\n",
            "Layer (type)                 Output Shape              Param #   \n",
            "=================================================================\n",
            "embedding (Embedding)        (None, 56, 30)            304380    \n",
            "_________________________________________________________________\n",
            "bidirectional (Bidirectional (None, 56, 300)           217200    \n",
            "_________________________________________________________________\n",
            "lstm_1 (LSTM)                (None, 30)                39720     \n",
            "_________________________________________________________________\n",
            "dense (Dense)                (None, 320)               9920      \n",
            "_________________________________________________________________\n",
            "dense_1 (Dense)              (None, 10146)             3256866   \n",
            "=================================================================\n",
            "Total params: 3,828,086\n",
            "Trainable params: 3,828,086\n",
            "Non-trainable params: 0\n",
            "_________________________________________________________________\n"
          ],
          "name": "stdout"
        }
      ]
    },
    {
      "cell_type": "code",
      "metadata": {
        "id": "osuRbjqQfyFm"
      },
      "source": [
        "model.compile(loss='categorical_crossentropy', optimizer=Adam(learning_rate=0.01), metrics=['accuracy']) "
      ],
      "execution_count": 29,
      "outputs": []
    },
    {
      "cell_type": "code",
      "metadata": {
        "colab": {
          "base_uri": "https://localhost:8080/"
        },
        "id": "7Fc6EMTKfyFm",
        "scrolled": true,
        "outputId": "268f9477-bc1b-4932-9040-4aadf36fbf69"
      },
      "source": [
        "history = model.fit(xs, ys, epochs=60, batch_size=2500) # 30  "
      ],
      "execution_count": 33,
      "outputs": [
        {
          "output_type": "stream",
          "text": [
            "Epoch 1/10\n",
            "60/60 [==============================] - 454s 8s/step - loss: 1.2758 - accuracy: 0.7011\n",
            "Epoch 2/10\n",
            "60/60 [==============================] - 450s 8s/step - loss: 1.2662 - accuracy: 0.7022\n",
            "Epoch 3/10\n",
            "60/60 [==============================] - 453s 8s/step - loss: 1.2583 - accuracy: 0.7048\n",
            "Epoch 4/10\n",
            "60/60 [==============================] - 478s 8s/step - loss: 1.2485 - accuracy: 0.7060\n",
            "Epoch 5/10\n",
            "60/60 [==============================] - 478s 8s/step - loss: 1.2398 - accuracy: 0.7081\n",
            "Epoch 6/10\n",
            "60/60 [==============================] - 474s 8s/step - loss: 1.2382 - accuracy: 0.7079\n",
            "Epoch 7/10\n",
            "60/60 [==============================] - 471s 8s/step - loss: 1.2327 - accuracy: 0.7084\n",
            "Epoch 8/10\n",
            "60/60 [==============================] - 481s 8s/step - loss: 1.2398 - accuracy: 0.7075\n",
            "Epoch 9/10\n",
            "60/60 [==============================] - 480s 8s/step - loss: 1.2314 - accuracy: 0.7090\n",
            "Epoch 10/10\n",
            "60/60 [==============================] - 445s 7s/step - loss: 1.2135 - accuracy: 0.7132\n"
          ],
          "name": "stdout"
        }
      ]
    },
    {
      "cell_type": "code",
      "metadata": {
        "id": "_niOzAeLfyFn",
        "colab": {
          "base_uri": "https://localhost:8080/",
          "height": 207
        },
        "outputId": "333013cd-97e6-4049-9a5c-5917e0a9a98f"
      },
      "source": [
        "# checks first to see if  file exists already\n",
        "# if not, the model is saved to disk\n",
        "import os.path \n",
        "\n",
        "if os.path.isfile('/content/drive/MyDrive/textgen_model2.h5') is False:\n",
        "    model.save('/content/drive/MyDrive/textgen_model2.h5')"
      ],
      "execution_count": 1,
      "outputs": [
        {
          "output_type": "error",
          "ename": "NameError",
          "evalue": "ignored",
          "traceback": [
            "\u001b[0;31m---------------------------------------------------------------------------\u001b[0m",
            "\u001b[0;31mNameError\u001b[0m                                 Traceback (most recent call last)",
            "\u001b[0;32m<ipython-input-1-dcd3f4e967d6>\u001b[0m in \u001b[0;36m<module>\u001b[0;34m()\u001b[0m\n\u001b[1;32m      4\u001b[0m \u001b[0;34m\u001b[0m\u001b[0m\n\u001b[1;32m      5\u001b[0m \u001b[0;32mif\u001b[0m \u001b[0mos\u001b[0m\u001b[0;34m.\u001b[0m\u001b[0mpath\u001b[0m\u001b[0;34m.\u001b[0m\u001b[0misfile\u001b[0m\u001b[0;34m(\u001b[0m\u001b[0;34m'/content/drive/MyDrive/textgen_model2.h5'\u001b[0m\u001b[0;34m)\u001b[0m \u001b[0;32mis\u001b[0m \u001b[0;32mFalse\u001b[0m\u001b[0;34m:\u001b[0m\u001b[0;34m\u001b[0m\u001b[0;34m\u001b[0m\u001b[0m\n\u001b[0;32m----> 6\u001b[0;31m     \u001b[0mmodel\u001b[0m\u001b[0;34m.\u001b[0m\u001b[0msave\u001b[0m\u001b[0;34m(\u001b[0m\u001b[0;34m'/content/drive/MyDrive/textgen_model2.h5'\u001b[0m\u001b[0;34m)\u001b[0m\u001b[0;34m\u001b[0m\u001b[0;34m\u001b[0m\u001b[0m\n\u001b[0m",
            "\u001b[0;31mNameError\u001b[0m: name 'model' is not defined"
          ]
        }
      ]
    },
    {
      "cell_type": "code",
      "metadata": {
        "id": "UafFkjhkfyFn"
      },
      "source": [
        "seed_text = \"it still inside\"\n",
        "next_words = 1"
      ],
      "execution_count": null,
      "outputs": []
    },
    {
      "cell_type": "code",
      "metadata": {
        "id": "DQzFJ90TfyFn"
      },
      "source": [
        "for _ in range(next_words):\n",
        "    token_list = tokenizer.texts_to_sequences([seed_text])[0]\n",
        "    token_list = pad_sequences([token_list], maxlen=max_sequence_len-1,padding='pre')\n",
        "    predicted = model.predict_classes(token_list, verbose=0)\n",
        "    output_word = ''\n",
        "    for word, index in tokenizer.word_index.items():\n",
        "        if index == predicted:\n",
        "            output_word = word\n",
        "            break\n",
        "    seed_text += ' ' + output_word\n",
        "\n",
        "print(seed_text)"
      ],
      "execution_count": null,
      "outputs": []
    },
    {
      "cell_type": "code",
      "metadata": {
        "id": "TfRLOlazfyFo"
      },
      "source": [
        ""
      ],
      "execution_count": null,
      "outputs": []
    },
    {
      "cell_type": "code",
      "metadata": {
        "id": "FKtrLh8HfyFo"
      },
      "source": [
        ""
      ],
      "execution_count": null,
      "outputs": []
    },
    {
      "cell_type": "code",
      "metadata": {
        "id": "15qJxd0TfyFo"
      },
      "source": [
        ""
      ],
      "execution_count": null,
      "outputs": []
    },
    {
      "cell_type": "code",
      "metadata": {
        "id": "hFkoMsLffyFo"
      },
      "source": [
        ""
      ],
      "execution_count": null,
      "outputs": []
    },
    {
      "cell_type": "code",
      "metadata": {
        "id": "n5Cb6dtUfyFo"
      },
      "source": [
        ""
      ],
      "execution_count": null,
      "outputs": []
    },
    {
      "cell_type": "code",
      "metadata": {
        "id": "zAw5pJ3OfyFo"
      },
      "source": [
        ""
      ],
      "execution_count": null,
      "outputs": []
    },
    {
      "cell_type": "code",
      "metadata": {
        "id": "ltFt0ACZfyFo"
      },
      "source": [
        ""
      ],
      "execution_count": null,
      "outputs": []
    },
    {
      "cell_type": "code",
      "metadata": {
        "id": "68JPAWtvfyFp"
      },
      "source": [
        ""
      ],
      "execution_count": null,
      "outputs": []
    },
    {
      "cell_type": "code",
      "metadata": {
        "id": "6KUbykNpfyFp"
      },
      "source": [
        "all_words_as_one_string = \"\"\n",
        "all_words_as_one_string += ' '.join(df.tDeliveryIns.to_numpy().tolist())\n",
        "all_words_as_one_string += ' '.join(df.tPickUpIns.to_numpy().tolist())"
      ],
      "execution_count": null,
      "outputs": []
    },
    {
      "cell_type": "code",
      "metadata": {
        "id": "y3NH_CiufyFp"
      },
      "source": [
        "text_cloud = WordCloud(stopwords=STOPWORDS, background_color=\"white\").generate(all_words_as_one_string)"
      ],
      "execution_count": null,
      "outputs": []
    },
    {
      "cell_type": "code",
      "metadata": {
        "id": "4Q4u31BSfyFp"
      },
      "source": [
        "def show_word_cloud(cloud):\n",
        "    plt.figure(figsize=(16, 10))\n",
        "    plt.imshow(cloud, interpolation='bilinear')\n",
        "    plt.axis('off')\n",
        "    plt.show()"
      ],
      "execution_count": null,
      "outputs": []
    },
    {
      "cell_type": "code",
      "metadata": {
        "id": "wsXoxjAtfyFp"
      },
      "source": [
        ""
      ],
      "execution_count": null,
      "outputs": []
    },
    {
      "cell_type": "code",
      "metadata": {
        "id": "cAwgqUiYfyFp"
      },
      "source": [
        ""
      ],
      "execution_count": null,
      "outputs": []
    },
    {
      "cell_type": "code",
      "metadata": {
        "id": "74VpVGsqfyFq"
      },
      "source": [
        ""
      ],
      "execution_count": null,
      "outputs": []
    },
    {
      "cell_type": "code",
      "metadata": {
        "id": "TMMKX-gvfyFq"
      },
      "source": [
        ""
      ],
      "execution_count": null,
      "outputs": []
    },
    {
      "cell_type": "code",
      "metadata": {
        "id": "V9HSl2RefyFq"
      },
      "source": [
        ""
      ],
      "execution_count": null,
      "outputs": []
    }
  ]
}